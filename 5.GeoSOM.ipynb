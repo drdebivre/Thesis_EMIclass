{
 "cells": [
  {
   "cell_type": "markdown",
   "id": "confused-genre",
   "metadata": {},
   "source": [
    "# GeoSOM\n",
    "\n",
    "How to incorporate spatial information:\n",
    "\n",
    "1) 'Easy' method: include coordinates as variables (rescaled and weighted)\n",
    "\n",
    "2) GeoSOM: The BMU (best matching unit) has to be in the geographical neighborhood of the sample. Results usually have a larger quantization error than the standard SOM but higher resolution in detecting clusters based on variables + location.\n",
    "\n",
    "[GeoSOM2D](https://www.sciencedirect.com/science/article/pii/S0098300404001918?casa_token=Qz5E08f__EoAAAAA:8FdqNl4DGINj5usSwytaes5b2NwWw_mlYXq4d5kuB9_7gcweOapnj-l8SttDDNa1Y4XbycB8-g)\\\n",
    "[GeoSOM3D](https://hess.copernicus.org/articles/11/1309/2007/)"
   ]
  },
  {
   "cell_type": "code",
   "execution_count": null,
   "id": "incredible-secondary",
   "metadata": {},
   "outputs": [],
   "source": []
  }
 ],
 "metadata": {
  "kernelspec": {
   "display_name": "Python 3",
   "language": "python",
   "name": "python3"
  },
  "language_info": {
   "codemirror_mode": {
    "name": "ipython",
    "version": 3
   },
   "file_extension": ".py",
   "mimetype": "text/x-python",
   "name": "python",
   "nbconvert_exporter": "python",
   "pygments_lexer": "ipython3",
   "version": "3.8.8"
  }
 },
 "nbformat": 4,
 "nbformat_minor": 5
}
